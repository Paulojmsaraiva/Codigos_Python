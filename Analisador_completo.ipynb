{
 "cells": [
  {
   "cell_type": "markdown",
   "id": "0f6eaae3",
   "metadata": {},
   "source": [
    "Analisador completo"
   ]
  },
  {
   "cell_type": "code",
   "execution_count": null,
   "id": "24de2e10",
   "metadata": {},
   "outputs": [],
   "source": [
    "\n",
    "somaidade = 0\n",
    "mediaidade = 0\n",
    "maioridadehomem = 0\n",
    "nomevelho = ''\n",
    "totmulher20 = 0\n",
    "for p in range(1, 5):\n",
    "    print('-----{}ª PESSOA-----'.format(p))\n",
    "    nome = str(input('Nome: ')).strip()\n",
    "    idade = int(input('Idade: '))\n",
    "    sexo = str(input('Sexo [M/F]: ')).strip()\n",
    "    somaidade += idade\n",
    "    if p == 1 and sexo in 'Mm':\n",
    "        maioridadehomem = idade\n",
    "        nomevelho = nome\n",
    "    if sexo in 'Mm' and idade > maioridadehomem:\n",
    "        maioridadehomem = idade\n",
    "        nomevelho = nome\n",
    "    if sexo in 'Ff' and idade < 20:\n",
    "        totmulher20 += 1\n",
    "mediaidade = somaidade/4\n",
    "print('A média de idade do grupo é de {} anos. '.format(mediaidade))\n",
    "print('O homem mais velho tem {} anos e se chama {}.'.format(maioridadehomem, nomevelho))\n",
    "print('Ao todo são {} mulheres com menos de 20 anos.'.format(totmulher20))"
   ]
  }
 ],
 "metadata": {
  "kernelspec": {
   "display_name": "Python 3 (ipykernel)",
   "language": "python",
   "name": "python3"
  },
  "language_info": {
   "codemirror_mode": {
    "name": "ipython",
    "version": 3
   },
   "file_extension": ".py",
   "mimetype": "text/x-python",
   "name": "python",
   "nbconvert_exporter": "python",
   "pygments_lexer": "ipython3",
   "version": "3.10.8"
  }
 },
 "nbformat": 4,
 "nbformat_minor": 5
}
