{
 "cells": [
  {
   "cell_type": "code",
   "execution_count": 1,
   "id": "de7a2143",
   "metadata": {},
   "outputs": [],
   "source": [
    "from math import sqrt\n",
    "\n",
    "a = float(input('Digite o valor de A: '))\n",
    "b = float(input('Digite o valor de B: '))\n",
    "c = float(input('Digite o valor de C: '))\n",
    "delta = sqrt(b**2 - 4*a*c)\n",
    "if delta < 0:\n",
    "    print('esta equação não possui raízes reais')\n",
    "x1 = (-b + delta) / 2*a\n",
    "x2 = (-b - delta) / 2*a\n",
    "\n",
    "if delta == 0:\n",
    "    print('a raiz desta equação é {:.1f}'.format(x2))\n",
    "if delta > 0:\n",
    "    if x1 > x2:\n",
    "        print('as raízes da equação são {:.1f} e {:.1f}'.format(x2, x1))\n",
    "    elif x2 > x1:\n",
    "        print('as raízes da equação são {:.1f} e {:.1f}'.format(x1, x2))"
   ]
  },
  {
   "cell_type": "code",
   "execution_count": null,
   "id": "5f2e3b7f",
   "metadata": {},
   "outputs": [],
   "source": []
  }
 ],
 "metadata": {
  "kernelspec": {
   "display_name": "Python 3 (ipykernel)",
   "language": "python",
   "name": "python3"
  },
  "language_info": {
   "codemirror_mode": {
    "name": "ipython",
    "version": 3
   },
   "file_extension": ".py",
   "mimetype": "text/x-python",
   "name": "python",
   "nbconvert_exporter": "python",
   "pygments_lexer": "ipython3",
   "version": "3.10.8"
  }
 },
 "nbformat": 4,
 "nbformat_minor": 5
}
