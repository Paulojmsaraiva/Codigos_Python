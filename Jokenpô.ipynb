{
 "cells": [
  {
   "cell_type": "code",
   "execution_count": null,
   "id": "955a27a7",
   "metadata": {},
   "outputs": [],
   "source": [
    "from random import randint\n",
    "from time import sleep\n",
    "itens = ('Pedra', 'Papel', 'Tesoura')\n",
    "computador = randint(0, 2)\n",
    "print('''Suas opções:\n",
    "[ 0 ] PEDRA\n",
    "[ 1 ] PAPEL\n",
    "[ 2 ] TESOURA''')\n",
    "jogador = int(input('Qual é a sua jogada? '))\n",
    "print('JO...')\n",
    "sleep(1)\n",
    "print('KEN...')\n",
    "sleep(1)\n",
    "print('PO!!!')\n",
    "print('-=' * 11)\n",
    "print('Computador jogou {}'.format(itens[computador]))\n",
    "print('Jogador jogou {}'.format(itens[jogador]))\n",
    "print('-=' * 11)\n",
    "if computador == 0:\n",
    "    if jogador == 0:\n",
    "        print('EMPATE')\n",
    "    elif jogador == 1:\n",
    "        print('JOGADOR VENCE')\n",
    "    elif jogador == 2:\n",
    "        print('COMPUTADOR VENCE')\n",
    "    else:\n",
    "        print('JOGADA INVÁLIDA')\n",
    "elif computador == 1:\n",
    "    if jogador == 0:\n",
    "        print('COMPUTADOR VENCE')\n",
    "    elif jogador == 1:\n",
    "        print('EMPATE')\n",
    "    elif jogador == 2:\n",
    "        print('JOGADOR VENCE')\n",
    "    else:\n",
    "        print('JOGADA INVÁLIDA')\n",
    "elif computador == 2:\n",
    "    if jogador == 0:\n",
    "        print('JOGADOR VENCE')\n",
    "    elif jogador == 1:\n",
    "        print('COMPUTADOR VENCE')\n",
    "    elif jogador == 2:\n",
    "        print('EMPATE')\n",
    "    else:\n",
    "        print('JOGADA INVÁLIDA')"
   ]
  }
 ],
 "metadata": {
  "kernelspec": {
   "display_name": "Python 3 (ipykernel)",
   "language": "python",
   "name": "python3"
  },
  "language_info": {
   "codemirror_mode": {
    "name": "ipython",
    "version": 3
   },
   "file_extension": ".py",
   "mimetype": "text/x-python",
   "name": "python",
   "nbconvert_exporter": "python",
   "pygments_lexer": "ipython3",
   "version": "3.10.8"
  }
 },
 "nbformat": 4,
 "nbformat_minor": 5
}
